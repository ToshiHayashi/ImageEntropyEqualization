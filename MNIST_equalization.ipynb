{
 "cells": [
  {
   "cell_type": "code",
   "execution_count": 1,
   "id": "718ae5e8",
   "metadata": {},
   "outputs": [],
   "source": [
    "import os\n",
    "import numpy as np\n",
    "#from prototype import prototype\n",
    "#import scipy.spatial.distance as ssd\n",
    "#from dissimilarity import dissimilarity\n",
    "from sklearn.metrics import roc_curve, auc\n",
    "from sklearn.neighbors import NearestNeighbors\n",
    "import numpy as np\n",
    "import pandas as pd\n",
    "import sys\n",
    "from sklearn.model_selection import train_test_split\n",
    "import pickle\n",
    "def makefile(what,filename):\n",
    "    with open(filename,\"wb\") as f3:\n",
    "        pickle.dump(what,f3)\n",
    "\n",
    "def readfile(filename):\n",
    "    with open(filename,\"rb\") as f4:\n",
    "        ans=pickle.load(f4)\n",
    "    return ans"
   ]
  },
  {
   "cell_type": "code",
   "execution_count": 2,
   "id": "3fc4f6fc",
   "metadata": {},
   "outputs": [
    {
     "name": "stderr",
     "output_type": "stream",
     "text": [
      "2023-08-21 09:28:18.025607: I tensorflow/core/platform/cpu_feature_guard.cc:193] This TensorFlow binary is optimized with oneAPI Deep Neural Network Library (oneDNN) to use the following CPU instructions in performance-critical operations:  SSE4.1 SSE4.2 AVX AVX2 FMA\n",
      "To enable them in other operations, rebuild TensorFlow with the appropriate compiler flags.\n"
     ]
    }
   ],
   "source": [
    "from tensorflow.keras.datasets import mnist\n",
    "from tensorflow.keras.datasets import fashion_mnist\n",
    "from tensorflow.keras.datasets import cifar10\n",
    "from PIL import Image"
   ]
  },
  {
   "cell_type": "code",
   "execution_count": 3,
   "id": "17ab26e8",
   "metadata": {},
   "outputs": [],
   "source": [
    "#if you want to equalize fashion_mnist,\n",
    "#mnist=fashion_mnist\n",
    "\n",
    "train=mnist.load_data()[0][0]\n",
    "train_label=mnist.load_data()[0][1]\n",
    "x_test=mnist.load_data()[1][0]\n",
    "y_test=mnist.load_data()[1][1]\n",
    "y_test=y_test.reshape(len(y_test))"
   ]
  },
  {
   "cell_type": "markdown",
   "id": "c542e1cc",
   "metadata": {},
   "source": [
    "Defined histograms"
   ]
  },
  {
   "cell_type": "code",
   "execution_count": null,
   "id": "c6d3c805",
   "metadata": {},
   "outputs": [],
   "source": [
    "for value in range(8):\n",
    "    entropy=value+1\n",
    "    area=2**entropy\n",
    "    Q=int(train.shape[1]*train.shape[2]/area)\n",
    "    mod=train.shape[1]*train.shape[2]%area\n",
    "    pixel_set=[]\n",
    "    for n in range(area):\n",
    "        if n < mod:\n",
    "            for i in range(Q+1):\n",
    "                pixel_set.append(n)\n",
    "        else:\n",
    "            for i in range(Q):\n",
    "                pixel_set.append(n)\n",
    "\n",
    "\n",
    "    equalized=np.zeros([train.shape[0],train.shape[1]*train.shape[2]])\n",
    "    a=train.reshape(-1,train.shape[1]*train.shape[2])\n",
    "    ind=np.argsort(a,axis=1,kind=\"mergesort\")\n",
    "    ind2=np.argsort(ind,axis=1)\n",
    "    for i in range(len(pixel_set)):\n",
    "        equalized[ind2==i]=int(pixel_set[i])\n",
    "    equalized=equalized.reshape(train.shape[0],train.shape[1],train.shape[2])\n",
    "    equalized_test=np.zeros([x_test.shape[0],x_test.shape[1]*x_test.shape[2]])\n",
    "    a=x_test.reshape(-1,x_test.shape[1]*x_test.shape[2])\n",
    "    ind=np.argsort(a,axis=1,kind=\"mergesort\")\n",
    "    ind2=np.argsort(ind,axis=1)\n",
    "    for i in range(len(pixel_set)):\n",
    "        equalized_test[ind2==i]=int(pixel_set[i])\n",
    "    equalized_test=equalized_test.reshape(x_test.shape[0],x_test.shape[1],x_test.shape[2])\n",
    "    makefile(equalized,\"Data/MNIST_edit/x_train\"+str(entropy)+\".pkl\")\n",
    "    makefile(equalized_test,\"Data/MNIST_edit/x_test\"+str(entropy)+\".pkl\")"
   ]
  },
  {
   "cell_type": "markdown",
   "id": "b61666a3",
   "metadata": {},
   "source": [
    "Average for classes"
   ]
  },
  {
   "cell_type": "code",
   "execution_count": null,
   "id": "acf8e499",
   "metadata": {},
   "outputs": [],
   "source": [
    "\n",
    "for label in range(10):\n",
    "    print(label)\n",
    "    x_train=train[train_label==label]\n",
    "    pixel_list=dict()\n",
    "    for n in range(256):\n",
    "        pixel_list[n]=0\n",
    "    for data in x_train:\n",
    "        for raw in data:\n",
    "            for pixel in raw:\n",
    "                pixel_list[pixel]+=1\n",
    "    hist_list=dict()\n",
    "    for num in pixel_list:\n",
    "        hist_list[num]=pixel_list[num]/len(x_train)\n",
    "    hist_num=dict()\n",
    "    residual=0\n",
    "    for num in hist_list:\n",
    "        hist_num[num]=int(np.round(hist_list[num]+residual,0))\n",
    "        residual=hist_list[num]+residual-int(np.round(hist_list[num]+residual,0))\n",
    "\n",
    "        \n",
    "    \n",
    "    pixel_set=[]\n",
    "    for num in hist_num:\n",
    "        repeat=hist_num[num]\n",
    "        for n in range(repeat):\n",
    "            pixel_set.append(num)\n",
    "\n",
    "    equalized=np.zeros([train.shape[0],train.shape[1]*train.shape[2]])\n",
    "    a=train.reshape(-1,train.shape[1]*train.shape[2])\n",
    "    ind=np.argsort(a,axis=1,kind=\"mergesort\")\n",
    "    ind2=np.argsort(ind,axis=1)\n",
    "    for i in range(len(pixel_set)):\n",
    "        equalized[ind2==i]=int(pixel_set[i])\n",
    "    equalized=equalized.reshape(train.shape[0],train.shape[1],train.shape[2])\n",
    "    equalized_test=np.zeros([x_test.shape[0],x_test.shape[1]*x_test.shape[2]])\n",
    "    a=x_test.reshape(-1,x_test.shape[1]*x_test.shape[2])\n",
    "    ind=np.argsort(a,axis=1,kind=\"mergesort\")\n",
    "    ind2=np.argsort(ind,axis=1)\n",
    "    for i in range(len(pixel_set)):\n",
    "        equalized_test[ind2==i]=int(pixel_set[i])\n",
    "    equalized_test=equalized_test.reshape(x_test.shape[0],x_test.shape[1],x_test.shape[2])\n",
    "    makefile(equalized,\"Data/MNIST_edit/x_train_average_\"+str(label)+\".pkl\")\n",
    "    makefile(equalized_test,\"Data/MNIST_edit/x_test_average_\"+str(label)+\".pkl\")"
   ]
  },
  {
   "cell_type": "code",
   "execution_count": null,
   "id": "34fdfe10",
   "metadata": {},
   "outputs": [],
   "source": [
    "#average all\n",
    "x_train=train\n",
    "pixel_list=dict()\n",
    "for n in range(256):\n",
    "    pixel_list[n]=0\n",
    "for data in x_train:\n",
    "    for raw in data:\n",
    "        for pixel in raw:\n",
    "            pixel_list[pixel]+=1\n",
    "hist_list=dict()\n",
    "for num in pixel_list:\n",
    "    hist_list[num]=pixel_list[num]/len(x_train)\n",
    "hist_num=dict()\n",
    "residual=0\n",
    "for num in hist_list:\n",
    "    hist_num[num]=int(np.round(hist_list[num]+residual,0))\n",
    "    residual=hist_list[num]+residual-int(np.round(hist_list[num]+residual,0))\n",
    "\n",
    "\n",
    "\n",
    "pixel_set=[]\n",
    "for num in hist_num:\n",
    "    repeat=hist_num[num]\n",
    "    for n in range(repeat):\n",
    "        pixel_set.append(num)\n",
    "\n",
    "equalized=np.zeros([train.shape[0],train.shape[1]*train.shape[2]])\n",
    "a=train.reshape(-1,train.shape[1]*train.shape[2])\n",
    "ind=np.argsort(a,axis=1,kind=\"mergesort\")\n",
    "ind2=np.argsort(ind,axis=1)\n",
    "for i in range(len(pixel_set)):\n",
    "    equalized[ind2==i]=int(pixel_set[i])\n",
    "equalized=equalized.reshape(train.shape[0],train.shape[1],train.shape[2])\n",
    "equalized_test=np.zeros([x_test.shape[0],x_test.shape[1]*x_test.shape[2]])\n",
    "a=x_test.reshape(-1,x_test.shape[1]*x_test.shape[2])\n",
    "ind=np.argsort(a,axis=1,kind=\"mergesort\")\n",
    "ind2=np.argsort(ind,axis=1)\n",
    "for i in range(len(pixel_set)):\n",
    "    equalized_test[ind2==i]=int(pixel_set[i])\n",
    "equalized_test=equalized_test.reshape(x_test.shape[0],x_test.shape[1],x_test.shape[2])\n",
    "makefile(equalized,\"Data/MNIST_edit/x_train_average_all.pkl\")\n",
    "makefile(equalized_test,\"Data/MNIST_edit/x_test_average_all.pkl\")"
   ]
  }
 ],
 "metadata": {
  "kernelspec": {
   "display_name": "Python 3 (ipykernel)",
   "language": "python",
   "name": "python3"
  },
  "language_info": {
   "codemirror_mode": {
    "name": "ipython",
    "version": 3
   },
   "file_extension": ".py",
   "mimetype": "text/x-python",
   "name": "python",
   "nbconvert_exporter": "python",
   "pygments_lexer": "ipython3",
   "version": "3.8.16"
  }
 },
 "nbformat": 4,
 "nbformat_minor": 5
}
